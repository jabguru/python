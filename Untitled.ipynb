{
 "cells": [
  {
   "cell_type": "code",
   "execution_count": 18,
   "metadata": {},
   "outputs": [
    {
     "name": "stdout",
     "output_type": "stream",
     "text": [
      "91\n",
      "Guess the number: 4\n",
      "Oga ade try again joor! You didnt get it\n",
      "Guess the number: 91\n",
      "Your head is there! you got it\n"
     ]
    }
   ],
   "source": [
    "#Generate a random number\n",
    "import random\n",
    "number = random.randint(0,100)\n",
    "print(number)\n",
    "\n",
    "def guess_check():\n",
    "    #request input from the user\n",
    "    guess = input(\"Guess the number: \")\n",
    "\n",
    "    #Convert the input string to integer\n",
    "    guess = int(guess)\n",
    "\n",
    "    #Checking the guess\n",
    "    if guess == number:\n",
    "        print(\"Your head is there! you got it\")\n",
    "    else:\n",
    "        print(\"Oga ade try again joor! You didnt get it\")\n",
    "        guess_check()\n",
    "\n",
    "\n",
    "guess_check()\n"
   ]
  },
  {
   "cell_type": "code",
   "execution_count": null,
   "metadata": {},
   "outputs": [],
   "source": []
  }
 ],
 "metadata": {
  "kernelspec": {
   "display_name": "Python 3",
   "language": "python",
   "name": "python3"
  },
  "language_info": {
   "codemirror_mode": {
    "name": "ipython",
    "version": 3
   },
   "file_extension": ".py",
   "mimetype": "text/x-python",
   "name": "python",
   "nbconvert_exporter": "python",
   "pygments_lexer": "ipython3",
   "version": "3.7.3"
  }
 },
 "nbformat": 4,
 "nbformat_minor": 2
}
